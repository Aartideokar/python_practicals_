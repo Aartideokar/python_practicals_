{
 "cells": [
  {
   "cell_type": "markdown",
   "id": "babf2cd9",
   "metadata": {},
   "source": [
    "# Loops in python\n",
    "\n",
    "In general, statements are executed sequentially: The first statement in a function is executed first, followed by the second, and so on. There may be a situation when you need to execute a block of code several number of times.\n",
    "\n",
    "Programming languages provide various control structures that allow for more complicated execution paths.\n",
    "\n",
    "A loop statement allows us to execute a statement or group of statements multiple times."
   ]
  },
  {
   "cell_type": "code",
   "execution_count": 2,
   "id": "46ba728b",
   "metadata": {},
   "outputs": [
    {
     "name": "stdout",
     "output_type": "stream",
     "text": [
      "Aarti\n",
      "730\n"
     ]
    }
   ],
   "source": [
    "student_name = str(input())\n",
    "\n",
    "marks = {'Aarti' : 730, 'Pranoti' : 722, 'chandan' : 345}\n",
    "\n",
    "for student in marks:\n",
    "    if student == student_name:\n",
    "        print(marks[student])\n",
    "        break\n",
    "else:\n",
    "    print('No entry with that name found.')"
   ]
  },
  {
   "cell_type": "markdown",
   "id": "ca62e718",
   "metadata": {},
   "source": [
    "# while loop"
   ]
  },
  {
   "cell_type": "code",
   "execution_count": 3,
   "id": "00a0f96b",
   "metadata": {},
   "outputs": [
    {
     "name": "stdout",
     "output_type": "stream",
     "text": [
      "Enter n: 8\n",
      "The sum is 36\n"
     ]
    }
   ],
   "source": [
    "n = int(input('Enter n: '))\n",
    "sum = 0\n",
    "i = 1\n",
    "while i <= n:\n",
    "    sum = sum + i\n",
    "    i = i+1\n",
    "    \n",
    "print('The sum is',sum)"
   ]
  },
  {
   "cell_type": "code",
   "execution_count": 5,
   "id": "32a05314",
   "metadata": {},
   "outputs": [
    {
     "name": "stdout",
     "output_type": "stream",
     "text": [
      "aarti data scientist\n",
      "aarti data analyst\n",
      "aarti ml engineer\n",
      "aarti dl researcher\n",
      "aarti di analyst\n",
      "pranoti data scientist\n",
      "pranoti data analyst\n",
      "pranoti ml engineer\n",
      "pranoti dl researcher\n",
      "pranoti di analyst\n",
      "abhi data scientist\n",
      "abhi data analyst\n",
      "abhi ml engineer\n",
      "abhi dl researcher\n",
      "abhi di analyst\n",
      "pooja data scientist\n",
      "pooja data analyst\n",
      "pooja ml engineer\n",
      "pooja dl researcher\n",
      "pooja di analyst\n",
      "om data scientist\n",
      "om data analyst\n",
      "om ml engineer\n",
      "om dl researcher\n",
      "om di analyst\n"
     ]
    }
   ],
   "source": [
    "student=['aarti','pranoti','abhi','pooja','om']\n",
    "jobs = ['data scientist','data analyst','ml engineer','dl researcher','di analyst']\n",
    "for x in student:\n",
    "    for y in jobs:\n",
    "        print(x,y)"
   ]
  },
  {
   "cell_type": "code",
   "execution_count": null,
   "id": "ad64dab8",
   "metadata": {},
   "outputs": [],
   "source": []
  }
 ],
 "metadata": {
  "kernelspec": {
   "display_name": "Python 3",
   "language": "python",
   "name": "python3"
  },
  "language_info": {
   "codemirror_mode": {
    "name": "ipython",
    "version": 3
   },
   "file_extension": ".py",
   "mimetype": "text/x-python",
   "name": "python",
   "nbconvert_exporter": "python",
   "pygments_lexer": "ipython3",
   "version": "3.8.8"
  }
 },
 "nbformat": 4,
 "nbformat_minor": 5
}
