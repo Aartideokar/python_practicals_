{
 "cells": [
  {
   "cell_type": "markdown",
   "id": "95a92dce",
   "metadata": {},
   "source": [
    "# Python if-else statements\n",
    "\n",
    "Decision making is the most important aspect of almost all the programming languages. As the name implies,decision making allows us to run a particular block of code for a particular decision.Here, the decisions are made on the validity of the particular conditions. Condition checking is the backbone of decision making."
   ]
  },
  {
   "cell_type": "markdown",
   "id": "7e5065e5",
   "metadata": {},
   "source": [
    "# The if statement\n",
    "\n",
    "The if statement is used to test a particular condition and if the condition is true, it executes a block of code known as if-block. The condition of if statement can be any valid logical expression which can be either evaluated to true or false."
   ]
  },
  {
   "cell_type": "code",
   "execution_count": 4,
   "id": "64175567",
   "metadata": {},
   "outputs": [
    {
     "name": "stdout",
     "output_type": "stream",
     "text": [
      "enter the number :45\n",
      "number is odd\n"
     ]
    }
   ],
   "source": [
    "num = int(input('enter the number :'))\n",
    "if num%2 == 0:\n",
    "    print('number is even')\n",
    "else:\n",
    "    print('number is odd')"
   ]
  },
  {
   "cell_type": "code",
   "execution_count": 5,
   "id": "2ab9b96d",
   "metadata": {},
   "outputs": [
    {
     "name": "stdout",
     "output_type": "stream",
     "text": [
      "Enter a :4\n",
      "Enter b :9\n",
      "Enter c :11\n",
      "c is largest\n"
     ]
    }
   ],
   "source": [
    "a = int(input('Enter a :'));\n",
    "b = int(input('Enter b :'));\n",
    "c = int(input('Enter c :'));\n",
    "if a>b and a>c:\n",
    "    print('a is largest');\n",
    "if b>a and b>c:\n",
    "    print('b is largest');\n",
    "if c>a and c>b:\n",
    "    print('c is largest');"
   ]
  },
  {
   "cell_type": "code",
   "execution_count": 7,
   "id": "bf0b396f",
   "metadata": {},
   "outputs": [
    {
     "name": "stdout",
     "output_type": "stream",
     "text": [
      "enter the number100\n",
      "number is equal to 100\n"
     ]
    }
   ],
   "source": [
    "number = int(input('enter the number'))\n",
    "if number==10:\n",
    "    print('number is equals to 10')\n",
    "elif number==50:\n",
    "    print('number is equal to 50')\n",
    "elif number==100:\n",
    "    print('number is equal to 100')\n",
    "else:\n",
    "    print('number is not equal to 10,50,100')"
   ]
  },
  {
   "cell_type": "code",
   "execution_count": 9,
   "id": "44ae5994",
   "metadata": {},
   "outputs": [
    {
     "name": "stdout",
     "output_type": "stream",
     "text": [
      "Enter the marks4\n",
      "sorry you are fail\n"
     ]
    }
   ],
   "source": [
    "marks = int(input('Enter the marks'))\n",
    "if marks > 85 and marks <= 100:\n",
    "    print('congrats ! you scored grade A..')\n",
    "elif marks >40 and marks <= 85:\n",
    "    print('you scored grade B + ...')\n",
    "elif marks >40 and marks <= 60:\n",
    "    print(\"you scored grade B ...\")\n",
    "elif (marks > 30 and marks <= 40):\n",
    "    print('you scored grade c...')\n",
    "else:\n",
    "    print(\"sorry you are fail\")"
   ]
  },
  {
   "cell_type": "markdown",
   "id": "a96b6a9b",
   "metadata": {},
   "source": [
    "# Python Nested if statements\n",
    "\n",
    "We can have a if...elif...else statement inside another if...elif...else statement. This is called nesting in computer programming.\n",
    "\n",
    "Any number of these statements can be nested inside one another. Identation is the only way to figure out the level of nesting. They can get confusing, so they must be avoided unless necessary."
   ]
  },
  {
   "cell_type": "code",
   "execution_count": 12,
   "id": "f9bba662",
   "metadata": {},
   "outputs": [
    {
     "name": "stdout",
     "output_type": "stream",
     "text": [
      "enter a number:-77\n",
      "negative number\n"
     ]
    }
   ],
   "source": [
    "'''In this program, we input a number \n",
    "check if the number is positive or negative \n",
    "or zero and display an appropriate message\n",
    "This time we use nested if statement'''\n",
    "\n",
    "num = float(input('enter a number:'))\n",
    "if num >= 0:\n",
    "    if num == 0:\n",
    "        print('Zero')\n",
    "    else:\n",
    "        print('Positive number')\n",
    "else:\n",
    "    print('negative number')"
   ]
  },
  {
   "cell_type": "code",
   "execution_count": null,
   "id": "572e49f3",
   "metadata": {},
   "outputs": [],
   "source": []
  }
 ],
 "metadata": {
  "kernelspec": {
   "display_name": "Python 3",
   "language": "python",
   "name": "python3"
  },
  "language_info": {
   "codemirror_mode": {
    "name": "ipython",
    "version": 3
   },
   "file_extension": ".py",
   "mimetype": "text/x-python",
   "name": "python",
   "nbconvert_exporter": "python",
   "pygments_lexer": "ipython3",
   "version": "3.8.8"
  }
 },
 "nbformat": 4,
 "nbformat_minor": 5
}
