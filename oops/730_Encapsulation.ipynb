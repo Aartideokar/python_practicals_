{
 "cells": [
  {
   "cell_type": "markdown",
   "id": "909d6cb0",
   "metadata": {},
   "source": [
    "# Encapsulation"
   ]
  },
  {
   "cell_type": "markdown",
   "id": "c146d349",
   "metadata": {},
   "source": [
    "Encapsulation in python describe concept of bundling data and methods within a single unit. For example, when you create a class, it means that implementing encapsulation.A class is an example of encapsulation as it binds all the data member and methods into a single unit."
   ]
  },
  {
   "cell_type": "markdown",
   "id": "b738cfc4",
   "metadata": {},
   "source": [
    "We can hide object's internal representation from outside the function. This is called information hiding. Also, encapsulation allows us to restrict accessing variables and methods directly and prevent accidental data modification by creating private data members and methods within a class."
   ]
  },
  {
   "cell_type": "markdown",
   "id": "3936f9a6",
   "metadata": {},
   "source": [
    "# Access modifiers in python\n",
    "\n",
    "Encapsulation can be achived by declaring data members and methods of a class either private or protected. But in python, we don't have directly access modifiers like public, private and protected. We can achive this by using a single underscore and double underscore.\n",
    "\n",
    "Accessing modifiers limit access to the variables and methods of the class.<br>\n",
    "**Public Members**: Accessible anywhere from within a class and outside class.<br>\n",
    "**Private Members**: Accessible within the class.<br>\n",
    "**Protected Members**: Accessible within the class and its sub-classes."
   ]
  },
  {
   "cell_type": "markdown",
   "id": "27fb01bc",
   "metadata": {},
   "source": [
    "# Public Member\n",
    "\n",
    "Public data members are accessible within the class and outside the class."
   ]
  },
  {
   "cell_type": "code",
   "execution_count": 4,
   "id": "329620b9",
   "metadata": {},
   "outputs": [
    {
     "name": "stdout",
     "output_type": "stream",
     "text": [
      "salary: 10000\n"
     ]
    }
   ],
   "source": [
    "class Employee:\n",
    "    #constructor\n",
    "    def __init__(self,name,salary):\n",
    "        #public data member\n",
    "        self.name = name\n",
    "        #private member\n",
    "        self.salary = salary\n",
    "        \n",
    "#creating object of a class\n",
    "emp = Employee(\"aarti\",10000)\n",
    "\n",
    "#accessing private data members\n",
    "print(\"salary:\",emp.salary)"
   ]
  },
  {
   "cell_type": "markdown",
   "id": "99642974",
   "metadata": {},
   "source": [
    "# Private Member\n",
    "\n",
    "We can protect variables in the class by making them private. To define a private variable add two underscore before variable name.<br>\n",
    "Private memberes are accessible only within the class, and we can't access them directly from class objects."
   ]
  },
  {
   "cell_type": "code",
   "execution_count": 5,
   "id": "b174bd0b",
   "metadata": {},
   "outputs": [
    {
     "ename": "NameError",
     "evalue": "name 'employee' is not defined",
     "output_type": "error",
     "traceback": [
      "\u001b[1;31m---------------------------------------------------------------------------\u001b[0m",
      "\u001b[1;31mNameError\u001b[0m                                 Traceback (most recent call last)",
      "\u001b[1;32m<ipython-input-5-6da527f654d4>\u001b[0m in \u001b[0;36m<module>\u001b[1;34m\u001b[0m\n\u001b[0;32m      8\u001b[0m \u001b[1;33m\u001b[0m\u001b[0m\n\u001b[0;32m      9\u001b[0m \u001b[1;31m#creating object of a class\u001b[0m\u001b[1;33m\u001b[0m\u001b[1;33m\u001b[0m\u001b[1;33m\u001b[0m\u001b[0m\n\u001b[1;32m---> 10\u001b[1;33m \u001b[0memp\u001b[0m \u001b[1;33m=\u001b[0m \u001b[0memployee\u001b[0m\u001b[1;33m(\u001b[0m\u001b[1;34m\"aarti\"\u001b[0m\u001b[1;33m,\u001b[0m\u001b[1;36m10000\u001b[0m\u001b[1;33m)\u001b[0m\u001b[1;33m\u001b[0m\u001b[1;33m\u001b[0m\u001b[0m\n\u001b[0m\u001b[0;32m     11\u001b[0m \u001b[1;33m\u001b[0m\u001b[0m\n\u001b[0;32m     12\u001b[0m \u001b[1;31m#accessing private data members\u001b[0m\u001b[1;33m\u001b[0m\u001b[1;33m\u001b[0m\u001b[1;33m\u001b[0m\u001b[0m\n",
      "\u001b[1;31mNameError\u001b[0m: name 'employee' is not defined"
     ]
    }
   ],
   "source": [
    "class Employee:\n",
    "    #constructor\n",
    "    def __init__(self,name,salary):\n",
    "        #public data member\n",
    "        self.name = name\n",
    "        #private member\n",
    "        self.__salary = salary\n",
    "        \n",
    "#creating object of a class\n",
    "emp = employee(\"aarti\",10000)\n",
    "\n",
    "#accessing private data members\n",
    "print(\"salary:\",emp.__salary)"
   ]
  },
  {
   "cell_type": "markdown",
   "id": "28d4ac4f",
   "metadata": {},
   "source": [
    "We can access private members form outside of the class using two approaches\n",
    "1. Create public method to access private members.\n",
    "\n",
    "2. Use name mangling\n"
   ]
  },
  {
   "cell_type": "code",
   "execution_count": 8,
   "id": "915c5adf",
   "metadata": {},
   "outputs": [
    {
     "name": "stdout",
     "output_type": "stream",
     "text": [
      "Name: aarti salary: 3000\n"
     ]
    }
   ],
   "source": [
    "class Employee:\n",
    "    #constructor\n",
    "    def __init__(self,name,salary):\n",
    "        #pulic data member\n",
    "        self.name=name\n",
    "        #private member\n",
    "        self.__salary=salary\n",
    "        \n",
    "   #public instance methods\n",
    "    def show(self):\n",
    "        #private members are accessible\n",
    "        print(\"Name:\",self.name,\"salary:\",self.__salary)\n",
    "        \n",
    "emp = Employee(\"aarti\",3000)\n",
    "emp.show()"
   ]
  },
  {
   "cell_type": "markdown",
   "id": "435d7c01",
   "metadata": {},
   "source": [
    "# Name Mangling\n",
    "\n",
    "The name magling is creating on identifier by adding one leading underscore and two trailing underscore."
   ]
  },
  {
   "cell_type": "code",
   "execution_count": 10,
   "id": "0a549fc3",
   "metadata": {},
   "outputs": [
    {
     "name": "stdout",
     "output_type": "stream",
     "text": [
      "Name: Aarti\n",
      "salary: 50000\n"
     ]
    }
   ],
   "source": [
    "class Employee:\n",
    "    #constructor\n",
    "    def __init__(self,name,salary):\n",
    "        #pulic data member\n",
    "        self.name=name\n",
    "        #private member\n",
    "        self.__salary=salary\n",
    "        \n",
    "#creating object of a class\n",
    "emp = Employee(\"Aarti\",50000)\n",
    "\n",
    "print('Name:', emp.name)\n",
    "#direct access to private member using name mangling\n",
    "print(\"salary:\",emp._Employee__salary)"
   ]
  },
  {
   "cell_type": "markdown",
   "id": "3fd59775",
   "metadata": {},
   "source": [
    "# Protected Members\n",
    "\n",
    "Protected members are accessible within the class and also available to its sub-classes(child class).To define a protected member we can use single underscore before variable name.<br>\n",
    "Protected data members are used when you implimenting inheritance and wanted to allow data members and access to only child class."
   ]
  },
  {
   "cell_type": "code",
   "execution_count": 13,
   "id": "02f52163",
   "metadata": {},
   "outputs": [
    {
     "name": "stdout",
     "output_type": "stream",
     "text": [
      "Employee name: aarti\n",
      "Working on project: NLP\n",
      "Project: NLP\n"
     ]
    }
   ],
   "source": [
    "#base class\n",
    "class Company:\n",
    "    def __init__(self):\n",
    "        #protected member\n",
    "        self._project = 'NLP'\n",
    "        \n",
    "#child class\n",
    "class Employee(Company):\n",
    "    def __init__(self,name):\n",
    "        self.name = name\n",
    "        Company.__init__(self)\n",
    "        \n",
    "    def show(self):\n",
    "        print(\"Employee name:\",self.name)\n",
    "        #accessing protected member in child class\n",
    "        print(\"Working on project:\",self._project)\n",
    "        \n",
    "c = Employee(\"aarti\")\n",
    "c.show()\n",
    "\n",
    "#Direct access protected data member\n",
    "print('Project:',c._project)"
   ]
  },
  {
   "cell_type": "markdown",
   "id": "b76d07a8",
   "metadata": {},
   "source": [
    "# Getters and Setters in python."
   ]
  },
  {
   "cell_type": "markdown",
   "id": "36253474",
   "metadata": {},
   "source": [
    "# Advantages of Encapsulation\n",
    "\n",
    "**Security**: Encapsulation protects an object from unauthorized access. It allows private and protected access levels to prevent accidental data modification.<br>\n",
    "**Data Hiding**: The user doesnt know behind the scene. They would only be knowing that to modify a data member,call the setter methods. To read the data member, call the getter method , this getters and setters methods are used in data hiding.<br>\n",
    "**Simplicity**: It simplifies the maintenance of the application by keeping classes separated and preventing them from tightly coupling with each other.<br>\n",
    "**Aesthetics**: Bundling data and methods within a class makes code more readable and maintainable."
   ]
  },
  {
   "cell_type": "code",
   "execution_count": null,
   "id": "66054ad0",
   "metadata": {},
   "outputs": [],
   "source": []
  }
 ],
 "metadata": {
  "kernelspec": {
   "display_name": "Python 3",
   "language": "python",
   "name": "python3"
  },
  "language_info": {
   "codemirror_mode": {
    "name": "ipython",
    "version": 3
   },
   "file_extension": ".py",
   "mimetype": "text/x-python",
   "name": "python",
   "nbconvert_exporter": "python",
   "pygments_lexer": "ipython3",
   "version": "3.8.8"
  }
 },
 "nbformat": 4,
 "nbformat_minor": 5
}
