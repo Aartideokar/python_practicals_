{
 "cells": [
  {
   "cell_type": "markdown",
   "id": "b53df83e",
   "metadata": {},
   "source": [
    "# Inheritance:"
   ]
  },
  {
   "cell_type": "markdown",
   "id": "ccd26c5a",
   "metadata": {},
   "source": [
    "Inheritance is a capability of a class to derive or inherit the property of another class.<br>\n",
    "The class that have derives properties is called as the derived class or child class.<br>\n",
    "And the class from which the properties are being derived is called as base class or parent class.<br>\n"
   ]
  },
  {
   "cell_type": "markdown",
   "id": "b9007806",
   "metadata": {},
   "source": [
    "# Advantages:\n",
    "1] Inheritance provide reusability of a code.<br>\n",
    "2] It is transitive in nature which means that if B inherit from another class A, then all the subclasses of b would automatically inherit from class A. "
   ]
  },
  {
   "cell_type": "markdown",
   "id": "c0686687",
   "metadata": {},
   "source": [
    "# Types of inheritance:\n",
    "\n",
    "\n"
   ]
  },
  {
   "cell_type": "markdown",
   "id": "a72dd34e",
   "metadata": {},
   "source": [
    "# Single inheritance: \n",
    "Derived/child class to inherit characteristics from single-parent class."
   ]
  },
  {
   "cell_type": "code",
   "execution_count": 23,
   "id": "bb9d0482",
   "metadata": {},
   "outputs": [],
   "source": [
    "class parent:\n",
    "    def __init__ (self,name,age,sal):\n",
    "        self.name=name\n",
    "        self.age=age\n",
    "        self.sal=sal\n",
    "        \n",
    "    def details(self):\n",
    "        print(\"name of employee is:\",self.name)\n",
    "        print(\"age of employee is:\",self.age)\n",
    "        print(\"sal of employee is:\",self.sal)\n",
    "        \n",
    "e=parent('aarti',21,40000)"
   ]
  },
  {
   "cell_type": "code",
   "execution_count": 24,
   "id": "bd47bf74",
   "metadata": {},
   "outputs": [
    {
     "name": "stdout",
     "output_type": "stream",
     "text": [
      "name of employee is: aarti\n",
      "age of employee is: 21\n",
      "sal of employee is: 40000\n"
     ]
    }
   ],
   "source": [
    "e.details()"
   ]
  },
  {
   "cell_type": "code",
   "execution_count": 25,
   "id": "31225f5a",
   "metadata": {},
   "outputs": [
    {
     "name": "stdout",
     "output_type": "stream",
     "text": [
      "Department is DSAI\n"
     ]
    }
   ],
   "source": [
    "class child(parent):\n",
    "    def department(self):\n",
    "        print(\"Department is DSAI\")\n",
    "\n",
    "d = child('abhi',21,40000)\n",
    "d.department()"
   ]
  },
  {
   "cell_type": "code",
   "execution_count": 26,
   "id": "4a40a850",
   "metadata": {},
   "outputs": [
    {
     "name": "stdout",
     "output_type": "stream",
     "text": [
      "name of employee is: abhi\n",
      "age of employee is: 21\n",
      "sal of employee is: 40000\n"
     ]
    }
   ],
   "source": [
    "d.details()"
   ]
  },
  {
   "cell_type": "markdown",
   "id": "3fcca4d6",
   "metadata": {},
   "source": [
    "# Multiple inheritance:\n",
    "\n",
    "A single child class is inherited from two or more parent class. This means that the child class has access to all the method and attribute of all the parent class."
   ]
  },
  {
   "cell_type": "code",
   "execution_count": 27,
   "id": "1dd78cf7",
   "metadata": {},
   "outputs": [],
   "source": [
    "class dad:  #first parent\n",
    "    def func1(self):\n",
    "        print(\"Hello dad\")\n",
    "        \n",
    "class mom:   #second parent\n",
    "    def func2(self):\n",
    "        print(\"Hello mom\")\n",
    "\n",
    "class child(dad,mom): #child class\n",
    "    def func3(self): #we include the parent classes\n",
    "        print(\"Hello child\")  #as an argument comma separated"
   ]
  },
  {
   "cell_type": "code",
   "execution_count": 28,
   "id": "dc393274",
   "metadata": {},
   "outputs": [
    {
     "name": "stdout",
     "output_type": "stream",
     "text": [
      "Hello dad\n",
      "Hello mom\n",
      "Hello child\n"
     ]
    }
   ],
   "source": [
    "test = child()  #object created\n",
    "test.func1()    #parent1 method called via child\n",
    "test.func2()    #parent2 method called via child\n",
    "test.func3()    #child method called"
   ]
  },
  {
   "cell_type": "markdown",
   "id": "59dd0ce8",
   "metadata": {},
   "source": [
    "# Multi-Level Inheritance in Python\n",
    "\n"
   ]
  },
  {
   "cell_type": "markdown",
   "id": "a4679246",
   "metadata": {},
   "source": [
    "In multilevel inheritance, we go beyond just a parent-child relationship.We introduce grandparent, parent and child,etc.<br>\n",
    "In multiple inheritance,we saw only two level of inheritance in which superior parent classes and derive classes ,but here we can have multiple level where the parent classes itself derived from another classes.\n"
   ]
  },
  {
   "cell_type": "code",
   "execution_count": 29,
   "id": "11a2fb2b",
   "metadata": {},
   "outputs": [],
   "source": [
    "class grandparent:\n",
    "    def func1(self):\n",
    "        print(\"Hello grandparent\")\n",
    "        \n",
    "class parent(grandparent):\n",
    "    def func2(self):\n",
    "        print(\"Hello Parent\")\n",
    "        \n",
    "class child(parent):\n",
    "    def func3(self):\n",
    "        print(\"Hello child\")"
   ]
  },
  {
   "cell_type": "code",
   "execution_count": 30,
   "id": "5c67fb44",
   "metadata": {},
   "outputs": [
    {
     "name": "stdout",
     "output_type": "stream",
     "text": [
      "Hello grandparent\n",
      "Hello Parent\n",
      "Hello child\n"
     ]
    }
   ],
   "source": [
    "test = child()  #object created\n",
    "test.func1()    \n",
    "test.func2()    \n",
    "test.func3() "
   ]
  },
  {
   "cell_type": "markdown",
   "id": "e3324b1b",
   "metadata": {},
   "source": [
    "# Hierarchical Inheritance"
   ]
  },
  {
   "cell_type": "markdown",
   "id": "dddce34a",
   "metadata": {},
   "source": [
    "Hierarchical Inheritance , is right opposite of multiple inheritance.This means that there are multiple child classes from single parent."
   ]
  },
  {
   "cell_type": "code",
   "execution_count": 31,
   "id": "963aa31d",
   "metadata": {},
   "outputs": [],
   "source": [
    "class parent():\n",
    "    def eye(self):\n",
    "        print(\"Blue\")\n",
    "        \n",
    "class child1(parent):\n",
    "    def hair(self):\n",
    "        print(\"curly\")\n",
    "    def Dimple(self):\n",
    "        print(\"Dimple\")\n",
    "    \n",
    "class child2(parent):\n",
    "    def skin(self):\n",
    "        print(\"Dusky\")"
   ]
  },
  {
   "cell_type": "code",
   "execution_count": 32,
   "id": "fd75ee8a",
   "metadata": {},
   "outputs": [],
   "source": [
    "c1 = child1()\n",
    "c2 = child2()"
   ]
  },
  {
   "cell_type": "code",
   "execution_count": 33,
   "id": "d0122ef7",
   "metadata": {},
   "outputs": [
    {
     "name": "stdout",
     "output_type": "stream",
     "text": [
      "Blue\n"
     ]
    }
   ],
   "source": [
    "c1.eye()"
   ]
  },
  {
   "cell_type": "code",
   "execution_count": 34,
   "id": "fbeaa7b5",
   "metadata": {},
   "outputs": [
    {
     "name": "stdout",
     "output_type": "stream",
     "text": [
      "curly\n"
     ]
    }
   ],
   "source": [
    "c1.hair()"
   ]
  },
  {
   "cell_type": "code",
   "execution_count": null,
   "id": "b8cd4195",
   "metadata": {},
   "outputs": [],
   "source": []
  }
 ],
 "metadata": {
  "kernelspec": {
   "display_name": "Python 3",
   "language": "python",
   "name": "python3"
  },
  "language_info": {
   "codemirror_mode": {
    "name": "ipython",
    "version": 3
   },
   "file_extension": ".py",
   "mimetype": "text/x-python",
   "name": "python",
   "nbconvert_exporter": "python",
   "pygments_lexer": "ipython3",
   "version": "3.8.8"
  }
 },
 "nbformat": 4,
 "nbformat_minor": 5
}
