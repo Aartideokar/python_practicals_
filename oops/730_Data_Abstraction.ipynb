{
 "cells": [
  {
   "cell_type": "markdown",
   "id": "ec216c4b",
   "metadata": {},
   "source": [
    "# Data Abstraction\n",
    "\n",
    "Hiding the implementation details from the users.<br>\n",
    "Abstraction is a really powerful concept of oops for making complex task and codes simler to use.It reduces the complexity for the user by making relevant part accessible and usable leaving the unnecessary code hidden.<br>\n",
    "There are many time the programmer doesnt want to out sensitive part of our code this is where data abstraction can be very functional.<br>\n",
    "Data abstraction in python can be achive through creating abstract classes and inheriting them later."
   ]
  },
  {
   "cell_type": "markdown",
   "id": "0cb1d19c",
   "metadata": {},
   "source": [
    "# Abstract class in python\n",
    "\n",
    "1. Abstract classes cannot be instantiated directly. This means that we cannot create an object of abstract class.<br>\n",
    "2. Abstract class is an interface.Interfaces in OOP enable a class to inherit data and functions from a base class by extending it.In python, we use the NotImplementedError to restrict the instantiation of a class.Any class having this error inside the method definition cannot be instantiated."
   ]
  },
  {
   "cell_type": "code",
   "execution_count": 1,
   "id": "732f297e",
   "metadata": {},
   "outputs": [],
   "source": [
    "from abc import ABC, abstractclassmethod"
   ]
  },
  {
   "cell_type": "code",
   "execution_count": 7,
   "id": "e4e13a66",
   "metadata": {},
   "outputs": [
    {
     "ename": "TypeError",
     "evalue": "Can't instantiate abstract class Joy with abstract methods wonderful",
     "output_type": "error",
     "traceback": [
      "\u001b[1;31m---------------------------------------------------------------------------\u001b[0m",
      "\u001b[1;31mTypeError\u001b[0m                                 Traceback (most recent call last)",
      "\u001b[1;32m<ipython-input-7-c3d070fb5c68>\u001b[0m in \u001b[0;36m<module>\u001b[1;34m\u001b[0m\n\u001b[0;32m      7\u001b[0m         \u001b[0mprint\u001b[0m\u001b[1;33m(\u001b[0m\u001b[1;34m\"joy is funny\"\u001b[0m\u001b[1;33m)\u001b[0m\u001b[1;33m\u001b[0m\u001b[1;33m\u001b[0m\u001b[0m\n\u001b[0;32m      8\u001b[0m \u001b[1;33m\u001b[0m\u001b[0m\n\u001b[1;32m----> 9\u001b[1;33m \u001b[0mobj\u001b[0m\u001b[1;33m=\u001b[0m\u001b[0mJoy\u001b[0m\u001b[1;33m(\u001b[0m\u001b[1;33m)\u001b[0m\u001b[1;33m\u001b[0m\u001b[1;33m\u001b[0m\u001b[0m\n\u001b[0m\u001b[0;32m     10\u001b[0m \u001b[0mobj\u001b[0m\u001b[1;33m.\u001b[0m\u001b[0mwonderful\u001b[0m\u001b[1;33m(\u001b[0m\u001b[1;33m)\u001b[0m\u001b[1;33m\u001b[0m\u001b[1;33m\u001b[0m\u001b[0m\n\u001b[0;32m     11\u001b[0m \u001b[0mobj\u001b[0m\u001b[1;33m.\u001b[0m\u001b[0mfun\u001b[0m\u001b[1;33m(\u001b[0m\u001b[1;33m)\u001b[0m\u001b[1;33m\u001b[0m\u001b[1;33m\u001b[0m\u001b[0m\n",
      "\u001b[1;31mTypeError\u001b[0m: Can't instantiate abstract class Joy with abstract methods wonderful"
     ]
    }
   ],
   "source": [
    "class Joy(ABC):\n",
    "    @abstractclassmethod\n",
    "    def wonderful(self):\n",
    "        print(\"joy is wonderful\")\n",
    "        \n",
    "    def fun(self):\n",
    "        print(\"joy is funny\")\n",
    "        \n",
    "obj=Joy()\n",
    "obj.wonderful()\n",
    "obj.fun()"
   ]
  },
  {
   "cell_type": "code",
   "execution_count": 8,
   "id": "1f07de4a",
   "metadata": {},
   "outputs": [
    {
     "name": "stdout",
     "output_type": "stream",
     "text": [
      "I can walk and run\n",
      "I can crawl\n",
      "I can bark\n",
      "I can roar\n"
     ]
    }
   ],
   "source": [
    "from abc import ABC, abstractmethod\n",
    "\n",
    "class Animal(ABC):\n",
    " \n",
    "    def move(self):\n",
    "\n",
    "        pass\n",
    " \n",
    "class Human(Animal):\n",
    " \n",
    "    def move(self):\n",
    "\n",
    "        print(\"I can walk and run\")\n",
    " \n",
    "class Snake(Animal):\n",
    " \n",
    "    def move(self):\n",
    "\n",
    "        print(\"I can crawl\")\n",
    " \n",
    "class Dog(Animal):\n",
    " \n",
    "    def move(self):\n",
    "\n",
    "        print(\"I can bark\")\n",
    " \n",
    "class Lion(Animal):\n",
    " \n",
    "    def move(self):\n",
    "\n",
    "        print(\"I can roar\")\n",
    "\n",
    "         \n",
    "# Driver code\n",
    "R = Human()\n",
    "R.move()\n",
    " \n",
    "K = Snake()\n",
    "K.move()\n",
    " \n",
    "R = Dog()\n",
    "R.move()\n",
    " \n",
    "K = Lion()\n",
    "K.move()"
   ]
  },
  {
   "cell_type": "code",
   "execution_count": null,
   "id": "1d52625f",
   "metadata": {},
   "outputs": [],
   "source": []
  }
 ],
 "metadata": {
  "kernelspec": {
   "display_name": "Python 3",
   "language": "python",
   "name": "python3"
  },
  "language_info": {
   "codemirror_mode": {
    "name": "ipython",
    "version": 3
   },
   "file_extension": ".py",
   "mimetype": "text/x-python",
   "name": "python",
   "nbconvert_exporter": "python",
   "pygments_lexer": "ipython3",
   "version": "3.8.8"
  }
 },
 "nbformat": 4,
 "nbformat_minor": 5
}
