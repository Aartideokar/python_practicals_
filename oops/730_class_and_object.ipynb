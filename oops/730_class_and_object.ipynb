{
 "cells": [
  {
   "cell_type": "code",
   "execution_count": 2,
   "id": "32fe81b4",
   "metadata": {},
   "outputs": [
    {
     "name": "stdout",
     "output_type": "stream",
     "text": [
      "This is the employee of dsai\n",
      "name of the employee is aarti\n",
      "age of the employee is 21\n"
     ]
    }
   ],
   "source": [
    "class employee:  #class is the blue-print of object.\n",
    "    def __init__(self,name,age):\n",
    "        self.name=name\n",
    "        self.age=age\n",
    "        \n",
    "    def DSAI(self):\n",
    "        print(\"This is the employee of dsai\")\n",
    "        print('name of the employee is', self.name)\n",
    "        print('age of the employee is', self.age)\n",
    "emp = employee('aarti',21)\n",
    "emp.DSAI()  #object is a any real world entity"
   ]
  },
  {
   "cell_type": "markdown",
   "id": "6e91c5d3",
   "metadata": {},
   "source": [
    "The purpose of object oriented programming is to develop application using an class and object.<br>\n",
    "A object oriented programming is a paradign is to design classes and objects.<br>\n",
    "The object is related to the real world entities such as mouse, monitor,cpu etc.<br>\n",
    "The oops concept focus on writing the re-usable code.<br>\n",
    "An object has two characteristic 1.attribute 2.Behaviour<br>\n",
    "eg. A parrot is an object <br>\n",
    "Attribute : color,name,age,species<br>\n",
    "Behaviour : flying,eating,talking."
   ]
  },
  {
   "cell_type": "code",
   "execution_count": 3,
   "id": "5838ad57",
   "metadata": {},
   "outputs": [],
   "source": [
    "class elephant:\n",
    "    #instance attributes\n",
    "    def __init__ (self,name,age):\n",
    "        self.name=name\n",
    "        self.age=age\n",
    "        \n",
    "    #instance method\n",
    "    def dance(self,song):\n",
    "        return \"{} dance {}\".format(self.name,song)\n",
    "    def eat(self):\n",
    "        return \"{} is now eating\".format(self.name)"
   ]
  },
  {
   "cell_type": "code",
   "execution_count": 4,
   "id": "0d658da7",
   "metadata": {},
   "outputs": [
    {
     "name": "stdout",
     "output_type": "stream",
     "text": [
      "coco dance 'happy'\n",
      "coco is now eating\n"
     ]
    }
   ],
   "source": [
    "#instantiate the object\n",
    "coco = elephant('coco',10)\n",
    "\n",
    "#call our instance methods\n",
    "print(coco.dance(\"'happy'\"))\n",
    "print(coco.eat())"
   ]
  },
  {
   "cell_type": "markdown",
   "id": "dc47be7b",
   "metadata": {},
   "source": []
  },
  {
   "cell_type": "code",
   "execution_count": null,
   "id": "6eae56b5",
   "metadata": {},
   "outputs": [],
   "source": []
  }
 ],
 "metadata": {
  "kernelspec": {
   "display_name": "Python 3",
   "language": "python",
   "name": "python3"
  },
  "language_info": {
   "codemirror_mode": {
    "name": "ipython",
    "version": 3
   },
   "file_extension": ".py",
   "mimetype": "text/x-python",
   "name": "python",
   "nbconvert_exporter": "python",
   "pygments_lexer": "ipython3",
   "version": "3.8.8"
  }
 },
 "nbformat": 4,
 "nbformat_minor": 5
}
