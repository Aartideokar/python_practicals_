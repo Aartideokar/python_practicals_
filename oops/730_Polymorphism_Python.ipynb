{
 "cells": [
  {
   "cell_type": "markdown",
   "id": "90ddf5c0",
   "metadata": {},
   "source": [
    "# Polymorphism"
   ]
  },
  {
   "cell_type": "markdown",
   "id": "cc5bd30e",
   "metadata": {},
   "source": [
    "It refers to use of a single type entity(methods , operator or object)to represent different type in different scenario."
   ]
  },
  {
   "cell_type": "code",
   "execution_count": 1,
   "id": "267f9557",
   "metadata": {},
   "outputs": [],
   "source": [
    "class Bird:\n",
    "    def intro (self):\n",
    "        print(\"There are many types of birds.\")\n",
    "    def fly (self):\n",
    "        print(\"Most of the birds can fly but some cannot.\")\n",
    "        \n",
    "class sparrow(Bird):\n",
    "    def fly (self):\n",
    "        print(\"Sparrows can fly.\")\n",
    "class ostrich (Bird):\n",
    "    def fly(self):\n",
    "        print(\"Ostrich cannot fly\")"
   ]
  },
  {
   "cell_type": "code",
   "execution_count": 8,
   "id": "75c44cdf",
   "metadata": {},
   "outputs": [],
   "source": [
    "obj_bird=Bird()\n",
    "obj_sparrow=sparrow()\n",
    "obj_ostrich=ostrich()"
   ]
  },
  {
   "cell_type": "code",
   "execution_count": 13,
   "id": "482d9d3b",
   "metadata": {},
   "outputs": [
    {
     "name": "stdout",
     "output_type": "stream",
     "text": [
      "Sparrows can fly.\n",
      "Ostrich cannot fly\n"
     ]
    }
   ],
   "source": [
    "obj_sparrow.fly()\n",
    "obj_ostrich.fly()"
   ]
  },
  {
   "cell_type": "code",
   "execution_count": 17,
   "id": "1085d410",
   "metadata": {},
   "outputs": [
    {
     "name": "stdout",
     "output_type": "stream",
     "text": [
      "meow\n",
      "I am a cat. My name is kitty.I am 2.3 years old.\n",
      "moo\n",
      "I am a cow. My name is Fluffy.I am 4 years old.\n"
     ]
    }
   ],
   "source": [
    "class cat:\n",
    "    def __init__(self,name,age):\n",
    "        self.name=name\n",
    "        self.age=age\n",
    "    def info(self):\n",
    "        print(f\"I am a cat. My name is {self.name}.I am {self.age} years old.\")\n",
    "        \n",
    "    def make_sound(self):\n",
    "        print('meow')\n",
    "\n",
    "class cow:\n",
    "    def __init__(self,name,age):\n",
    "        self.name=name\n",
    "        self.age=age\n",
    "        \n",
    "    def info(self):\n",
    "        print(f\"I am a cow. My name is {self.name}.I am {self.age} years old.\")\n",
    "    \n",
    "    def make_sound(self):\n",
    "        print('moo')\n",
    "        \n",
    "cat1 = cat(\"kitty\",2.3)\n",
    "cow1 = cow('Fluffy',4)\n",
    "\n",
    "for animal in (cat1,cow1):\n",
    "    animal.make_sound()\n",
    "    animal.info()\n",
    "    #animal.make_sound()\n"
   ]
  },
  {
   "cell_type": "code",
   "execution_count": 20,
   "id": "557a8419",
   "metadata": {},
   "outputs": [
    {
     "name": "stdout",
     "output_type": "stream",
     "text": [
      "circle\n",
      "I am a two-dimensional shape.\n",
      "squares have each angle equal to 90 degrees.\n",
      "153.93804002589985\n"
     ]
    }
   ],
   "source": [
    "from math import pi\n",
    "\n",
    "class shape:\n",
    "    def __init__(self,name):\n",
    "        self.name=name\n",
    "        \n",
    "    def area(self):\n",
    "        pass\n",
    "    \n",
    "    def fact(self):\n",
    "        return \"I am a two-dimensional shape.\"\n",
    "    \n",
    "    def __str__(self):\n",
    "        return self.name\n",
    "    \n",
    "class square(shape):\n",
    "    def __init__(self,length):\n",
    "        super().__init__(\"square\")\n",
    "        self.length=length\n",
    "        \n",
    "    def area(self):\n",
    "        return self.length**2\n",
    "    \n",
    "    def fact(self):\n",
    "        return \"squares have each angle equal to 90 degrees.\"\n",
    "    \n",
    "class circle(shape):\n",
    "    def __init__(self,radius):\n",
    "        super().__init__(\"circle\")\n",
    "        self.radius=radius\n",
    "        \n",
    "    def area(self):\n",
    "        return pi*self.radius**2\n",
    "    \n",
    "\n",
    "a = square(4)\n",
    "b = circle(7)\n",
    "print(b)\n",
    "print(b.fact())\n",
    "print(a.fact())\n",
    "print(b.area())"
   ]
  },
  {
   "cell_type": "markdown",
   "id": "158f742c",
   "metadata": {},
   "source": [
    "# Method Overloading"
   ]
  },
  {
   "cell_type": "markdown",
   "id": "23dbaef7",
   "metadata": {},
   "source": [
    "Methods in python can be called with 0,1 or more parameter this process of calling the same method in diffrent way is called method overloading.<br>\n",
    "Overloading is the method that can do different functionality with same name."
   ]
  },
  {
   "cell_type": "code",
   "execution_count": 21,
   "id": "73949419",
   "metadata": {},
   "outputs": [],
   "source": [
    "class VIP:\n",
    "    def Overloading(seld,x=None,y=None):\n",
    "        if x==None and y==None:\n",
    "            print(\"Nothing\")\n",
    "        elif x!=None and y!=None:\n",
    "            print(\"addition of two numbers\",x+y)\n",
    "        else:\n",
    "            print('you have passed only one argument:',x)"
   ]
  },
  {
   "cell_type": "code",
   "execution_count": 22,
   "id": "b5420672",
   "metadata": {},
   "outputs": [
    {
     "name": "stdout",
     "output_type": "stream",
     "text": [
      "Nothing\n"
     ]
    }
   ],
   "source": [
    "obj = VIP()\n",
    "obj.Overloading()"
   ]
  },
  {
   "cell_type": "code",
   "execution_count": 23,
   "id": "ca42e52c",
   "metadata": {},
   "outputs": [
    {
     "name": "stdout",
     "output_type": "stream",
     "text": [
      "you have passed only one argument: 5\n"
     ]
    }
   ],
   "source": [
    "obj.Overloading(5)"
   ]
  },
  {
   "cell_type": "code",
   "execution_count": 24,
   "id": "41ca82f8",
   "metadata": {},
   "outputs": [
    {
     "name": "stdout",
     "output_type": "stream",
     "text": [
      "addition of two numbers 9\n"
     ]
    }
   ],
   "source": [
    "obj.Overloading(4,5)"
   ]
  },
  {
   "cell_type": "markdown",
   "id": "47bac557",
   "metadata": {},
   "source": [
    "# Method Overriding"
   ]
  },
  {
   "cell_type": "markdown",
   "id": "f138e088",
   "metadata": {},
   "source": [
    "Method overriding allow a subclass or childclass to provide a specific implimentation of a method that is already provided by one of its super classes or parent classes."
   ]
  },
  {
   "cell_type": "code",
   "execution_count": 25,
   "id": "dfb2c41c",
   "metadata": {},
   "outputs": [],
   "source": [
    "class Animal:\n",
    "    multicellular = True\n",
    "    eukaryotic = True\n",
    "    \n",
    "    def breathe(self):\n",
    "        print('I breathe oxygen')\n",
    "    def feed(self):\n",
    "        print(\"I eat food\")"
   ]
  },
  {
   "cell_type": "code",
   "execution_count": 31,
   "id": "0d9dfe14",
   "metadata": {},
   "outputs": [],
   "source": [
    "class Herbivorous(Animal):\n",
    "    def feed(self):\n",
    "        print(\"I eat only plants. I am vegetarian\")\n",
    "        \n",
    "class omnivorous(Animal):\n",
    "    def feed(self):\n",
    "        print(\"I eat plant and \")\n",
    "        "
   ]
  },
  {
   "cell_type": "code",
   "execution_count": 32,
   "id": "8d8da9a1",
   "metadata": {},
   "outputs": [
    {
     "name": "stdout",
     "output_type": "stream",
     "text": [
      "I eat food\n",
      "I eat only plants. I am vegetarian\n",
      "I eat plant and \n"
     ]
    }
   ],
   "source": [
    "an = Animal()\n",
    "an.feed()\n",
    "hr = Herbivorous()\n",
    "hr.feed()\n",
    "om = omnivorous()\n",
    "om.feed()"
   ]
  },
  {
   "cell_type": "markdown",
   "id": "ec474552",
   "metadata": {},
   "source": [
    "# Method Overloading \n",
    "\n",
    "Method with the same name but different number of argument.<br>\n",
    "Inheritance is optional.<br>\n",
    "Takes place in methods within a class.<br>\n",
    "Can be done within a class.<br>\n",
    "Binding of overloaded method is done at compile-time;hence it is a part of compile-time polymorphism.<br>\n",
    "Static method can be overloaded.<br>\n",
    "Increases code reusability.<br>\n",
    "Relates with Polymorphism.<br>\n"
   ]
  },
  {
   "cell_type": "markdown",
   "id": "f3d5b5b4",
   "metadata": {},
   "source": [
    "# Method Overrinding\n",
    "\n",
    "Method with same name and same number of arguments.<br>\n",
    "Inheritance required/must.<br>\n",
    "Method reside in different classes.<br>\n",
    "At least 2 classes are required.<br>\n",
    "Binding of overridden methods is done at runtime;hence it is part of run-time polymorphism.<br>\n",
    "Static methods cannot be overridden .<br>\n",
    "Used in implementation of specific scenarios.<br>\n",
    "It relates with Inheritance."
   ]
  },
  {
   "cell_type": "code",
   "execution_count": null,
   "id": "efd0d963",
   "metadata": {},
   "outputs": [],
   "source": []
  }
 ],
 "metadata": {
  "kernelspec": {
   "display_name": "Python 3",
   "language": "python",
   "name": "python3"
  },
  "language_info": {
   "codemirror_mode": {
    "name": "ipython",
    "version": 3
   },
   "file_extension": ".py",
   "mimetype": "text/x-python",
   "name": "python",
   "nbconvert_exporter": "python",
   "pygments_lexer": "ipython3",
   "version": "3.8.8"
  }
 },
 "nbformat": 4,
 "nbformat_minor": 5
}
