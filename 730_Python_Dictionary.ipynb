{
 "cells": [
  {
   "cell_type": "markdown",
   "id": "76ea7951",
   "metadata": {},
   "source": [
    "# Dictionary\n",
    "Python dictionary is an unordered collection of items. Each item of a dictionary has a key/value pair.\n",
    "<br>\n",
    "Dictionaries are optimized to retrive values when the key is known."
   ]
  },
  {
   "cell_type": "markdown",
   "id": "96f019eb",
   "metadata": {},
   "source": [
    "# Creating Python Dictionary\n",
    "\n",
    "Creating a dictionary is as simple as placing items inside curly braces{} separated by commas.<br>\n",
    "An item has a key and a corresponding value that is expressed as a pair(key:value).<br>\n",
    "While the values can be of any data type and can repeat, keys must be of immutable type(string, number or tuple with immutable elements) and must be unique."
   ]
  },
  {
   "cell_type": "code",
   "execution_count": 1,
   "id": "ece2a508",
   "metadata": {},
   "outputs": [],
   "source": [
    "my_dict = {}\n",
    "#dictionary with integer keys\n",
    "my_dict = {1:'apple',2:'ball'}\n",
    "#using dict\n",
    "my_dict = dict({1:'apple',2:'ball'})\n"
   ]
  },
  {
   "cell_type": "code",
   "execution_count": 5,
   "id": "6964528a",
   "metadata": {},
   "outputs": [
    {
     "name": "stdout",
     "output_type": "stream",
     "text": [
      "aarti\n",
      "21\n",
      "None\n"
     ]
    }
   ],
   "source": [
    "my_dict={'name':'aarti','age':21}\n",
    "print(my_dict['name'])\n",
    "print(my_dict.get('age'))\n",
    "print(my_dict.get('address'))\n"
   ]
  },
  {
   "cell_type": "markdown",
   "id": "aa3fff51",
   "metadata": {},
   "source": [
    "# Changing and Adding Dictionary Elements"
   ]
  },
  {
   "cell_type": "code",
   "execution_count": 8,
   "id": "7a4a170e",
   "metadata": {},
   "outputs": [
    {
     "name": "stdout",
     "output_type": "stream",
     "text": [
      "{'name': 'aarti', 'age': 21, 'address': 'ghatkopar'}\n"
     ]
    }
   ],
   "source": [
    "my_dict['address']='ghatkopar'\n",
    "print(my_dict)"
   ]
  },
  {
   "cell_type": "code",
   "execution_count": 13,
   "id": "fcc0de4b",
   "metadata": {},
   "outputs": [
    {
     "name": "stdout",
     "output_type": "stream",
     "text": [
      "16\n",
      "{1: 1, 2: 4, 3: 9, 5: 25}\n"
     ]
    }
   ],
   "source": [
    "squares = {1:1,2:4,3:9,4:16,5:25}\n",
    "print(squares.pop(4))\n",
    "print(squares)"
   ]
  },
  {
   "cell_type": "code",
   "execution_count": 14,
   "id": "284be102",
   "metadata": {},
   "outputs": [
    {
     "name": "stdout",
     "output_type": "stream",
     "text": [
      "(5, 25)\n",
      "{1: 1, 2: 4, 3: 9}\n"
     ]
    }
   ],
   "source": [
    "print(squares.popitem())\n",
    "print(squares)"
   ]
  },
  {
   "cell_type": "code",
   "execution_count": 15,
   "id": "77d05357",
   "metadata": {},
   "outputs": [
    {
     "name": "stdout",
     "output_type": "stream",
     "text": [
      "{'Python': 0, 'FDS': 0, 'AI': 0}\n"
     ]
    }
   ],
   "source": [
    "marks = {}.fromkeys(['Python','FDS','AI'],0)\n",
    "print(marks)"
   ]
  },
  {
   "cell_type": "code",
   "execution_count": 16,
   "id": "5e82559a",
   "metadata": {},
   "outputs": [
    {
     "name": "stdout",
     "output_type": "stream",
     "text": [
      "('Python', 0)\n",
      "('FDS', 0)\n",
      "('AI', 0)\n"
     ]
    }
   ],
   "source": [
    "for item in marks.items():\n",
    "    print(item)"
   ]
  },
  {
   "cell_type": "code",
   "execution_count": 17,
   "id": "61482ca4",
   "metadata": {},
   "outputs": [
    {
     "name": "stdout",
     "output_type": "stream",
     "text": [
      "dict_keys(['Python', 'FDS', 'AI'])\n"
     ]
    }
   ],
   "source": [
    "print(marks.keys())"
   ]
  },
  {
   "cell_type": "code",
   "execution_count": 18,
   "id": "9ee60dff",
   "metadata": {},
   "outputs": [
    {
     "name": "stdout",
     "output_type": "stream",
     "text": [
      "dict_values([0, 0, 0])\n"
     ]
    }
   ],
   "source": [
    "print(marks.values())"
   ]
  },
  {
   "cell_type": "code",
   "execution_count": null,
   "id": "2872afb4",
   "metadata": {},
   "outputs": [],
   "source": []
  }
 ],
 "metadata": {
  "kernelspec": {
   "display_name": "Python 3",
   "language": "python",
   "name": "python3"
  },
  "language_info": {
   "codemirror_mode": {
    "name": "ipython",
    "version": 3
   },
   "file_extension": ".py",
   "mimetype": "text/x-python",
   "name": "python",
   "nbconvert_exporter": "python",
   "pygments_lexer": "ipython3",
   "version": "3.8.8"
  }
 },
 "nbformat": 4,
 "nbformat_minor": 5
}
