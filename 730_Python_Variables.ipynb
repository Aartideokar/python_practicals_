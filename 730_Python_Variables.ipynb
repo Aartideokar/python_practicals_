{
 "cells": [
  {
   "cell_type": "markdown",
   "id": "15c5657b",
   "metadata": {},
   "source": [
    "# Variables"
   ]
  },
  {
   "cell_type": "markdown",
   "id": "350c3748",
   "metadata": {},
   "source": [
    "<b>Variables are the containers to store the data values.</b>"
   ]
  },
  {
   "cell_type": "code",
   "execution_count": 3,
   "id": "239147de",
   "metadata": {},
   "outputs": [
    {
     "name": "stdout",
     "output_type": "stream",
     "text": [
      "<class 'int'>\n",
      "<class 'str'>\n"
     ]
    }
   ],
   "source": [
    "x = 5\n",
    "y = \"aarti\"\n",
    "print(type(x))\n",
    "print(type(y))"
   ]
  },
  {
   "cell_type": "markdown",
   "id": "9554d0f2",
   "metadata": {},
   "source": [
    "# Casting"
   ]
  },
  {
   "cell_type": "code",
   "execution_count": 5,
   "id": "64c3a342",
   "metadata": {},
   "outputs": [
    {
     "name": "stdout",
     "output_type": "stream",
     "text": [
      "3.0\n"
     ]
    }
   ],
   "source": [
    "x = str(3)\n",
    "y = int(3)\n",
    "z = float(3)\n",
    "print(z)"
   ]
  },
  {
   "cell_type": "code",
   "execution_count": 6,
   "id": "cea3fae6",
   "metadata": {},
   "outputs": [
    {
     "name": "stdout",
     "output_type": "stream",
     "text": [
      "aarti\n",
      "aarti\n"
     ]
    }
   ],
   "source": [
    "x = \"aarti\"\n",
    "print(x)\n",
    "y = 'aarti'\n",
    "z = \"\"\"aarti\"\"\"\n",
    "print(z)"
   ]
  },
  {
   "cell_type": "markdown",
   "id": "cac8a34e",
   "metadata": {},
   "source": [
    "# Local Variables and Global Variables"
   ]
  },
  {
   "cell_type": "code",
   "execution_count": 9,
   "id": "e2b7b20a",
   "metadata": {},
   "outputs": [
    {
     "name": "stdout",
     "output_type": "stream",
     "text": [
      "Python is fantastic\n",
      "Python is awesome\n"
     ]
    }
   ],
   "source": [
    "x = \"awesome\"#global variable\n",
    "\n",
    "def myfunc():\n",
    "    x = \"fantastic\"#local variable\n",
    "    print(\"Python is \" + x)\n",
    "    \n",
    "myfunc()\n",
    "\n",
    "print(\"Python is \" + x)"
   ]
  },
  {
   "cell_type": "code",
   "execution_count": 10,
   "id": "0310a5a0",
   "metadata": {},
   "outputs": [
    {
     "name": "stdout",
     "output_type": "stream",
     "text": [
      "Python is fantastic\n"
     ]
    }
   ],
   "source": [
    "#To change the value of a global variable inside a function,\n",
    "x = \"awesome\"\n",
    "\n",
    "def myfunc():\n",
    "    global x\n",
    "    x = \"fantastic\"\n",
    "    \n",
    "myfunc()\n",
    "\n",
    "print(\"Python is \" + x)"
   ]
  },
  {
   "cell_type": "code",
   "execution_count": null,
   "id": "1e69c47d",
   "metadata": {},
   "outputs": [],
   "source": []
  }
 ],
 "metadata": {
  "kernelspec": {
   "display_name": "Python 3",
   "language": "python",
   "name": "python3"
  },
  "language_info": {
   "codemirror_mode": {
    "name": "ipython",
    "version": 3
   },
   "file_extension": ".py",
   "mimetype": "text/x-python",
   "name": "python",
   "nbconvert_exporter": "python",
   "pygments_lexer": "ipython3",
   "version": "3.8.8"
  }
 },
 "nbformat": 4,
 "nbformat_minor": 5
}
