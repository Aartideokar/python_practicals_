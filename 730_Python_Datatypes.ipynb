{
 "cells": [
  {
   "cell_type": "code",
   "execution_count": 6,
   "id": "5553efec",
   "metadata": {},
   "outputs": [
    {
     "name": "stdout",
     "output_type": "stream",
     "text": [
      "b'\\x00\\x00\\x00\\x00\\x00'\n"
     ]
    }
   ],
   "source": [
    "a = str(\"Hello World\")\n",
    "b = int(20)\n",
    "c = float(9.85)\n",
    "d = complex(1j)\n",
    "e = list((\"Msczoology\",\"Mscstat\",\"Msccs\"))\n",
    "f = tuple((\"MscIt\",\"MscCS\",\"MscChemistry\"))\n",
    "g = range(6)\n",
    "h = dict(name= 'john', age=36)\n",
    "i = set((\"apple\",\"banana\",\"cherry\"))\n",
    "j = frozenset((\"apple\",\"banana\",\"cherry\"))\n",
    "#frozenset[Frozen set is just an immutable version]\n",
    "k = bool(5)\n",
    "l = bytes(5)\n",
    "print(l)"
   ]
  },
  {
   "cell_type": "code",
   "execution_count": 7,
   "id": "bb139f8e",
   "metadata": {},
   "outputs": [
    {
     "name": "stdout",
     "output_type": "stream",
     "text": [
      "{'name': 'aarti', 'age': 21}\n"
     ]
    }
   ],
   "source": [
    "m = {\"name\":\"aarti\", \"age\":21}\n",
    "print(m)"
   ]
  },
  {
   "cell_type": "code",
   "execution_count": 9,
   "id": "ea9114a8",
   "metadata": {},
   "outputs": [
    {
     "name": "stdout",
     "output_type": "stream",
     "text": [
      "bytearray(b'\\x00\\x00\\x00\\x00\\x00')\n"
     ]
    }
   ],
   "source": [
    "n = bytearray(5)\n",
    "print(n)"
   ]
  },
  {
   "cell_type": "code",
   "execution_count": 10,
   "id": "3cfcbfd8",
   "metadata": {},
   "outputs": [
    {
     "name": "stdout",
     "output_type": "stream",
     "text": [
      "happy birthday jayesh\n"
     ]
    }
   ],
   "source": [
    "jayesh = str(\"happy birthday jayesh\")\n",
    "print(jayesh)"
   ]
  },
  {
   "cell_type": "code",
   "execution_count": null,
   "id": "5e09e818",
   "metadata": {},
   "outputs": [],
   "source": []
  }
 ],
 "metadata": {
  "kernelspec": {
   "display_name": "Python 3",
   "language": "python",
   "name": "python3"
  },
  "language_info": {
   "codemirror_mode": {
    "name": "ipython",
    "version": 3
   },
   "file_extension": ".py",
   "mimetype": "text/x-python",
   "name": "python",
   "nbconvert_exporter": "python",
   "pygments_lexer": "ipython3",
   "version": "3.8.8"
  }
 },
 "nbformat": 4,
 "nbformat_minor": 5
}
