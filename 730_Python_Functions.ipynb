{
 "cells": [
  {
   "cell_type": "code",
   "execution_count": 1,
   "id": "eab82b39",
   "metadata": {},
   "outputs": [],
   "source": [
    "def aarti():\n",
    "    print(DSAI)"
   ]
  },
  {
   "cell_type": "code",
   "execution_count": 3,
   "id": "f40e5c9a",
   "metadata": {},
   "outputs": [
    {
     "data": {
      "text/plain": [
       "<function __main__.aarti()>"
      ]
     },
     "execution_count": 3,
     "metadata": {},
     "output_type": "execute_result"
    }
   ],
   "source": [
    "aarti"
   ]
  },
  {
   "cell_type": "markdown",
   "id": "e5064f90",
   "metadata": {},
   "source": [
    "# Function\n",
    "\n",
    "Functions are used to perform specific tasks in programming\n",
    "Functions helps the programmer to divide the whole program into different chunks that individual chunks are called as functions\n",
    "\n",
    "<ol>\n",
    "<li>To define function in python we will use def keyword</li>\n",
    "<li>The name of the function should be unique and contains individual identity.</li>\n",
    "<li>function may have parameters or may not it depends on the programmer.</li>\n",
    "<li>A colon mark is used in the end of the function headers.</li>\n",
    "<li>A return statement is optional in python function.</li>\n",
    "</ol>"
   ]
  },
  {
   "cell_type": "code",
   "execution_count": 6,
   "id": "bfd31b51",
   "metadata": {},
   "outputs": [],
   "source": [
    "def add(a,b): #parameter\n",
    "    c = a+b\n",
    "    print(c)"
   ]
  },
  {
   "cell_type": "code",
   "execution_count": 7,
   "id": "d66db8a5",
   "metadata": {},
   "outputs": [
    {
     "name": "stdout",
     "output_type": "stream",
     "text": [
      "10\n"
     ]
    }
   ],
   "source": [
    "add(5,5) #argument"
   ]
  },
  {
   "cell_type": "code",
   "execution_count": 9,
   "id": "523168a7",
   "metadata": {},
   "outputs": [
    {
     "name": "stdout",
     "output_type": "stream",
     "text": [
      "value inside function: 10\n",
      "value outside function: 20\n"
     ]
    }
   ],
   "source": [
    "def my_func():\n",
    "    x = 10\n",
    "    print('value inside function:', x)\n",
    "\n",
    "x =20\n",
    "my_func()\n",
    "print('value outside function:',x)"
   ]
  },
  {
   "cell_type": "code",
   "execution_count": 10,
   "id": "0997d9fd",
   "metadata": {},
   "outputs": [
    {
     "data": {
      "text/plain": [
       "'scope of the variable is the portion of the program where the variable is recognized.\\nParameters and variables define inside a function are not visible from the outside of the function.'"
      ]
     },
     "execution_count": 10,
     "metadata": {},
     "output_type": "execute_result"
    }
   ],
   "source": [
    "\"\"\"scope of the variable is the portion of the program where the variable is recognized.\n",
    "Parameters and variables define inside a function are not visible from the outside of the function.\"\"\"\n"
   ]
  },
  {
   "cell_type": "markdown",
   "id": "c513540d",
   "metadata": {},
   "source": [
    "# Parameter and Argument\n",
    "A Parameter is the variable listed inside the parentheses in the function definition.<br>\n",
    "An argument is the value that is sent to the function when it is called."
   ]
  },
  {
   "cell_type": "markdown",
   "id": "d5390b1c",
   "metadata": {},
   "source": [
    "<b>If you the programmer do not know how many arguments that will be passed into your function then add * before the parameter name in the function definition.<b>"
   ]
  },
  {
   "cell_type": "code",
   "execution_count": 15,
   "id": "03d88c30",
   "metadata": {},
   "outputs": [],
   "source": [
    "def today(*day):  #* means all  \n",
    "    print(\"today is\",day[2])"
   ]
  },
  {
   "cell_type": "code",
   "execution_count": 16,
   "id": "f78618cc",
   "metadata": {},
   "outputs": [
    {
     "name": "stdout",
     "output_type": "stream",
     "text": [
      "today is wednesday\n"
     ]
    }
   ],
   "source": [
    "today('monday','tuesday','wednesday')"
   ]
  },
  {
   "cell_type": "markdown",
   "id": "603a0adb",
   "metadata": {},
   "source": [
    "# Arbitary Keyword argument, **kwargs\n",
    "\n",
    "If the programmers does not know how many keyword argument that will be passed into your function then add two asterisk: ** , before the parameter name in the function defination.\n",
    "\n",
    "This way the function will receive a dictionary of arguments, and can access the items accordingly:\n",
    "    "
   ]
  },
  {
   "cell_type": "code",
   "execution_count": 19,
   "id": "8ced48a0",
   "metadata": {},
   "outputs": [
    {
     "name": "stdout",
     "output_type": "stream",
     "text": [
      "Age of stud 21\n"
     ]
    }
   ],
   "source": [
    "def my_function(**student):\n",
    "    print(\"Age of stud \" + student['age'])\n",
    "    \n",
    "my_function(fname = 'aarti',lname = 'deokar' ,age= '21')"
   ]
  },
  {
   "cell_type": "code",
   "execution_count": 21,
   "id": "efe36c64",
   "metadata": {},
   "outputs": [
    {
     "name": "stdout",
     "output_type": "stream",
     "text": [
      "DSAI\n"
     ]
    }
   ],
   "source": [
    "#default\n",
    "def student(name='DSAI'):\n",
    "    print(name)\n",
    "student()"
   ]
  },
  {
   "cell_type": "code",
   "execution_count": 22,
   "id": "d7aea3a9",
   "metadata": {},
   "outputs": [],
   "source": [
    "def maxim():\n",
    "    pass"
   ]
  },
  {
   "cell_type": "markdown",
   "id": "69d786a1",
   "metadata": {},
   "source": [
    "# The pass Statement\n",
    "\n",
    "Function definitions cannot be empty, but if you want for some reason to have a function definition with no content, the the programmer can add/pass statement to avoid getting an error."
   ]
  },
  {
   "cell_type": "markdown",
   "id": "2d78aa9b",
   "metadata": {},
   "source": [
    "# Recursion\n",
    "\n",
    "A recursion is a common mathematical and programming concept. It means that something which means that something which is calling itself. This has the benefit of loop through data to reach the result.<br>\n",
    "The developer should be very careful as it can be quite easy to slip into writing which never terminates, or one that uses excess amount of memory or processor power.<br>\n",
    "However, when written corrently recursion can be a very efficient and mathematically-elegant approach to programming."
   ]
  },
  {
   "cell_type": "markdown",
   "id": "71943502",
   "metadata": {},
   "source": [
    "# Recursion Function:\n",
    "\n",
    "A function which call itself again and again is called as recursion function."
   ]
  },
  {
   "cell_type": "code",
   "execution_count": 26,
   "id": "72cc68f0",
   "metadata": {},
   "outputs": [],
   "source": [
    "import sys\n",
    "\n",
    "sys.setrecursionlimit(5000)\n"
   ]
  },
  {
   "cell_type": "code",
   "execution_count": 28,
   "id": "c79bed58",
   "metadata": {},
   "outputs": [
    {
     "data": {
      "text/plain": [
       "5000"
      ]
     },
     "execution_count": 28,
     "metadata": {},
     "output_type": "execute_result"
    }
   ],
   "source": [
    "sys.getrecursionlimit()"
   ]
  },
  {
   "cell_type": "code",
   "execution_count": null,
   "id": "4a85755d",
   "metadata": {},
   "outputs": [],
   "source": []
  }
 ],
 "metadata": {
  "kernelspec": {
   "display_name": "Python 3",
   "language": "python",
   "name": "python3"
  },
  "language_info": {
   "codemirror_mode": {
    "name": "ipython",
    "version": 3
   },
   "file_extension": ".py",
   "mimetype": "text/x-python",
   "name": "python",
   "nbconvert_exporter": "python",
   "pygments_lexer": "ipython3",
   "version": "3.8.8"
  }
 },
 "nbformat": 4,
 "nbformat_minor": 5
}
