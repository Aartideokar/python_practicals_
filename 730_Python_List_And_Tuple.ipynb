{
 "cells": [
  {
   "cell_type": "markdown",
   "id": "fb2d1040",
   "metadata": {},
   "source": [
    "# List\n",
    "\n",
    "List are used to store multiple items in a single variables.\n",
    "Lists are one of 4 built-in data types in python used to store the collection of data."
   ]
  },
  {
   "cell_type": "code",
   "execution_count": 6,
   "id": "6e720e56",
   "metadata": {},
   "outputs": [
    {
     "data": {
      "text/plain": [
       "[1, 'Rice', 3.4]"
      ]
     },
     "execution_count": 6,
     "metadata": {},
     "output_type": "execute_result"
    }
   ],
   "source": [
    "#list of integers\n",
    "my_list = [1,'Rice',3.4]\n",
    "my_list"
   ]
  },
  {
   "cell_type": "code",
   "execution_count": 7,
   "id": "22edaf50",
   "metadata": {},
   "outputs": [
    {
     "data": {
      "text/plain": [
       "['maggie', [10, 75, 150], ['m']]"
      ]
     },
     "execution_count": 7,
     "metadata": {},
     "output_type": "execute_result"
    }
   ],
   "source": [
    "#nested list\n",
    "my_list = ['maggie',[10,75,150],['m']]\n",
    "my_list"
   ]
  },
  {
   "cell_type": "code",
   "execution_count": 8,
   "id": "bbe0905d",
   "metadata": {},
   "outputs": [],
   "source": [
    "[a,b,c] = my_list"
   ]
  },
  {
   "cell_type": "code",
   "execution_count": 9,
   "id": "8f89d3e8",
   "metadata": {},
   "outputs": [
    {
     "data": {
      "text/plain": [
       "['maggie']"
      ]
     },
     "execution_count": 9,
     "metadata": {},
     "output_type": "execute_result"
    }
   ],
   "source": [
    "[a]"
   ]
  },
  {
   "cell_type": "code",
   "execution_count": 10,
   "id": "20bc3e74",
   "metadata": {},
   "outputs": [
    {
     "data": {
      "text/plain": [
       "[[10, 75, 150]]"
      ]
     },
     "execution_count": 10,
     "metadata": {},
     "output_type": "execute_result"
    }
   ],
   "source": [
    "[b]"
   ]
  },
  {
   "cell_type": "code",
   "execution_count": 11,
   "id": "596cd86f",
   "metadata": {},
   "outputs": [
    {
     "name": "stdout",
     "output_type": "stream",
     "text": [
      "happy\n"
     ]
    }
   ],
   "source": [
    "n_list=['happy',[2,0,1,8]]\n",
    "print(n_list[0])"
   ]
  },
  {
   "cell_type": "code",
   "execution_count": 14,
   "id": "5e897a2b",
   "metadata": {},
   "outputs": [
    {
     "name": "stdout",
     "output_type": "stream",
     "text": [
      "8\n"
     ]
    }
   ],
   "source": [
    "print(n_list[1][3])"
   ]
  },
  {
   "cell_type": "code",
   "execution_count": 16,
   "id": "686d75d5",
   "metadata": {},
   "outputs": [
    {
     "name": "stdout",
     "output_type": "stream",
     "text": [
      "e\n"
     ]
    },
    {
     "data": {
      "text/plain": [
       "5"
      ]
     },
     "execution_count": 16,
     "metadata": {},
     "output_type": "execute_result"
    }
   ],
   "source": [
    "my_list=['p','r','o','b','e']\n",
    "print(my_list[-1])\n",
    "len(my_list)"
   ]
  },
  {
   "cell_type": "code",
   "execution_count": 19,
   "id": "1a9c0388",
   "metadata": {},
   "outputs": [
    {
     "name": "stdout",
     "output_type": "stream",
     "text": [
      "11\n",
      "['o', 'g', 'r']\n"
     ]
    }
   ],
   "source": [
    "#list slicing in python\n",
    "a=['p','r','o','g','r','a','m','m','i','n','g']\n",
    "print(len(a))\n",
    "print(a[2:5])"
   ]
  },
  {
   "cell_type": "code",
   "execution_count": 20,
   "id": "6fbb229b",
   "metadata": {},
   "outputs": [
    {
     "name": "stdout",
     "output_type": "stream",
     "text": [
      "['o', 'g', 'r', 'a', 'm', 'm']\n"
     ]
    }
   ],
   "source": [
    "print(a[2:8])"
   ]
  },
  {
   "cell_type": "code",
   "execution_count": 23,
   "id": "e546d3be",
   "metadata": {},
   "outputs": [
    {
     "name": "stdout",
     "output_type": "stream",
     "text": [
      "[1, 4, 6, 8]\n",
      "[1, 3, 5, 7]\n"
     ]
    }
   ],
   "source": [
    "odd = [2,4,6,8]\n",
    "#change 1st item\n",
    "odd[0]=1\n",
    "print(odd)\n",
    "#change 2nd to 4th items\n",
    "odd[1:4]=[3,5,7]\n",
    "print(odd)"
   ]
  },
  {
   "cell_type": "code",
   "execution_count": 24,
   "id": "bddf7e21",
   "metadata": {},
   "outputs": [
    {
     "data": {
      "text/plain": [
       "[4, 6, 8]"
      ]
     },
     "execution_count": 24,
     "metadata": {},
     "output_type": "execute_result"
    }
   ],
   "source": [
    "odd = [2,4,6,8]\n",
    "odd[1:4]"
   ]
  },
  {
   "cell_type": "code",
   "execution_count": 26,
   "id": "b1ca025c",
   "metadata": {},
   "outputs": [
    {
     "name": "stdout",
     "output_type": "stream",
     "text": [
      "[2, 4, 6, 8, 7, 7]\n",
      "[2, 4, 6, 8, 7, 7, 9, 11, 13]\n"
     ]
    }
   ],
   "source": [
    "odd.append(7)\n",
    "print(odd)\n",
    "odd.extend([9,11,13])\n",
    "print(odd)"
   ]
  },
  {
   "cell_type": "code",
   "execution_count": 29,
   "id": "6f3c9c21",
   "metadata": {},
   "outputs": [
    {
     "name": "stdout",
     "output_type": "stream",
     "text": [
      "[2, 4, 6, 8, 7, 7, 9, 11, 13, 14, 15, 16]\n",
      "['re', 're', 're', 're']\n"
     ]
    }
   ],
   "source": [
    "#concatenating and repeating lists\n",
    "print(odd+[14,15,16])\n",
    "print(['re']*4)"
   ]
  },
  {
   "cell_type": "code",
   "execution_count": 32,
   "id": "80aee1b3",
   "metadata": {},
   "outputs": [
    {
     "name": "stdout",
     "output_type": "stream",
     "text": [
      "[1, 3, 9]\n"
     ]
    }
   ],
   "source": [
    "#demostration of list insert() method\n",
    "odd = [1,9]\n",
    "odd.insert(1,3)\n",
    "print(odd)\n"
   ]
  },
  {
   "cell_type": "code",
   "execution_count": 33,
   "id": "206b95bf",
   "metadata": {},
   "outputs": [
    {
     "name": "stdout",
     "output_type": "stream",
     "text": [
      "[1, 3, 5, 7, 9]\n"
     ]
    }
   ],
   "source": [
    "odd[2:2]=[5,7]\n",
    "print(odd)"
   ]
  },
  {
   "cell_type": "code",
   "execution_count": 38,
   "id": "2d85f462",
   "metadata": {},
   "outputs": [
    {
     "name": "stdout",
     "output_type": "stream",
     "text": [
      "['r', 'o', 'b', 'l', 'e', 'm']\n"
     ]
    }
   ],
   "source": [
    "list=['p','r','o','b','l','e','m']\n",
    "list.remove('p')\n",
    "print(list)"
   ]
  },
  {
   "cell_type": "code",
   "execution_count": 39,
   "id": "fed75752",
   "metadata": {},
   "outputs": [
    {
     "name": "stdout",
     "output_type": "stream",
     "text": [
      "o\n",
      "['r', 'b', 'l', 'e', 'm']\n"
     ]
    }
   ],
   "source": [
    "print(list.pop(1))\n",
    "print(list)"
   ]
  },
  {
   "cell_type": "code",
   "execution_count": 40,
   "id": "c0e811ce",
   "metadata": {},
   "outputs": [
    {
     "name": "stdout",
     "output_type": "stream",
     "text": [
      "[]\n"
     ]
    }
   ],
   "source": [
    "list.clear()\n",
    "print(list)"
   ]
  },
  {
   "cell_type": "code",
   "execution_count": 42,
   "id": "56735ff3",
   "metadata": {},
   "outputs": [
    {
     "ename": "SyntaxError",
     "evalue": "invalid syntax (<ipython-input-42-b4671bfdb957>, line 1)",
     "output_type": "error",
     "traceback": [
      "\u001b[1;36m  File \u001b[1;32m\"<ipython-input-42-b4671bfdb957>\"\u001b[1;36m, line \u001b[1;32m1\u001b[0m\n\u001b[1;33m    list.del()\u001b[0m\n\u001b[1;37m         ^\u001b[0m\n\u001b[1;31mSyntaxError\u001b[0m\u001b[1;31m:\u001b[0m invalid syntax\n"
     ]
    }
   ],
   "source": [
    "list.del()\n",
    "print(list)"
   ]
  },
  {
   "cell_type": "code",
   "execution_count": 43,
   "id": "f9fc02fb",
   "metadata": {},
   "outputs": [
    {
     "name": "stdout",
     "output_type": "stream",
     "text": [
      "[1, 2, 4, 8, 16, 32, 64, 128, 256, 512]\n"
     ]
    }
   ],
   "source": [
    "pow2 = [2 ** x for x in range(10)]\n",
    "print(pow2)"
   ]
  },
  {
   "cell_type": "code",
   "execution_count": 44,
   "id": "de5fb4ed",
   "metadata": {},
   "outputs": [
    {
     "name": "stdout",
     "output_type": "stream",
     "text": [
      "[1, 2, 4, 8, 16, 32, 64, 128, 256, 512]\n"
     ]
    }
   ],
   "source": [
    "pow2 = []\n",
    "for x in range(10):\n",
    "    pow2.append(2 ** x)\n",
    "print(pow2)"
   ]
  },
  {
   "cell_type": "code",
   "execution_count": 47,
   "id": "67579d15",
   "metadata": {},
   "outputs": [
    {
     "name": "stdout",
     "output_type": "stream",
     "text": [
      "True\n",
      "False\n",
      "True\n"
     ]
    }
   ],
   "source": [
    "list=['p','r','o','b','l','e','m']\n",
    "print('p' in list)\n",
    "print('a' in list)\n",
    "print('c' not in list)"
   ]
  },
  {
   "cell_type": "code",
   "execution_count": 48,
   "id": "229cd547",
   "metadata": {},
   "outputs": [
    {
     "name": "stdout",
     "output_type": "stream",
     "text": [
      "I like apple\n",
      "I like banana\n",
      "I like mango\n"
     ]
    }
   ],
   "source": [
    "#iterating through list\n",
    "for fruit in ['apple','banana','mango']:\n",
    "    print('I like',fruit)"
   ]
  },
  {
   "cell_type": "code",
   "execution_count": 49,
   "id": "6df8adae",
   "metadata": {},
   "outputs": [
    {
     "name": "stdout",
     "output_type": "stream",
     "text": [
      "s\n"
     ]
    }
   ],
   "source": [
    "#tuple\n",
    "n_tuple = ('mouse',[6,7,8],(1,2,3))\n",
    "print(n_tuple[0][3])"
   ]
  },
  {
   "cell_type": "code",
   "execution_count": null,
   "id": "2eaefd1f",
   "metadata": {},
   "outputs": [],
   "source": []
  }
 ],
 "metadata": {
  "kernelspec": {
   "display_name": "Python 3",
   "language": "python",
   "name": "python3"
  },
  "language_info": {
   "codemirror_mode": {
    "name": "ipython",
    "version": 3
   },
   "file_extension": ".py",
   "mimetype": "text/x-python",
   "name": "python",
   "nbconvert_exporter": "python",
   "pygments_lexer": "ipython3",
   "version": "3.8.8"
  }
 },
 "nbformat": 4,
 "nbformat_minor": 5
}
