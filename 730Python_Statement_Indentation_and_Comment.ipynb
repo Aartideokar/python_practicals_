{
 "cells": [
  {
   "cell_type": "markdown",
   "id": "daf81179",
   "metadata": {},
   "source": [
    "# Statement"
   ]
  },
  {
   "cell_type": "markdown",
   "id": "dbbd345a",
   "metadata": {},
   "source": [
    "<p>Instructions that a Python interpreter can execute are called as statements.</p>\n",
    "<ol>\n",
    "<li>There are different types of statements in the python programming language like Assignment statements,conditional statements,looping statement,etc.</li>\n",
    "<li>These all help the user to get the required output. For example, n=50 is an assignment statement.</li>\n",
    "</ol>\n",
    "\n",
    "<b>Multi-Line Statements:</b><p>Statements in python can be extended to one or more lines using parentheses(),braces{},square brackets[],semi-colon(;),continuation character slash().</p>\n",
    "<p>When the programmer needs to do long calculations and cannot fit his statements into one line,one can make use of these characters</p>\n"
   ]
  },
  {
   "cell_type": "code",
   "execution_count": 4,
   "id": "ab858d85",
   "metadata": {},
   "outputs": [
    {
     "name": "stdout",
     "output_type": "stream",
     "text": [
      "45\n"
     ]
    }
   ],
   "source": [
    "#Declared using Continuation Character (\\):\n",
    "s = 1+2+3+\\\n",
    "    4+5+6+\\\n",
    "    7++8+9\n",
    "print(s)"
   ]
  },
  {
   "cell_type": "code",
   "execution_count": 5,
   "id": "c598212c",
   "metadata": {},
   "outputs": [
    {
     "name": "stdout",
     "output_type": "stream",
     "text": [
      "59\n"
     ]
    }
   ],
   "source": [
    "#Declared using parentheses():\n",
    "n = (1*2*3*+7+8+9)\n",
    "print(n)"
   ]
  },
  {
   "cell_type": "code",
   "execution_count": 13,
   "id": "0052bdfa",
   "metadata": {},
   "outputs": [
    {
     "name": "stdout",
     "output_type": "stream",
     "text": [
      "['Ronaldo', 'Messi', 'Neymar']\n"
     ]
    }
   ],
   "source": [
    "footballer=['Ronaldo',\n",
    "           'Messi',\n",
    "           'Neymar']\n",
    "print(footballer)"
   ]
  },
  {
   "cell_type": "code",
   "execution_count": 16,
   "id": "d26eb536",
   "metadata": {},
   "outputs": [
    {
     "name": "stdout",
     "output_type": "stream",
     "text": [
      "{45}\n",
      "2\n",
      "3\n",
      "4\n"
     ]
    }
   ],
   "source": [
    "#Declared using braces{}:\n",
    "x = {1+2+3+4+5+6+\n",
    "     7+8+9}\n",
    "\n",
    "print(x)\n",
    "\n",
    "#Declared using semicolons(;):\n",
    "flag = 2; ropes = 3 ; pole = 4\n",
    "print(flag)\n",
    "print(ropes)\n",
    "print(pole)"
   ]
  },
  {
   "cell_type": "markdown",
   "id": "a162f6be",
   "metadata": {},
   "source": [
    "# Indentation"
   ]
  },
  {
   "cell_type": "markdown",
   "id": "260a3d33",
   "metadata": {},
   "source": [
    "A block is a combination of all these statements. Block can be regarded as the grouping of statements for a specific purpose.Most of the programming languages like C,C++, and Java use braces{} to define a block of code One of the distinctive features of Python is its use of indentation to highlight the blocks of code. Whitespace is used for indentation in python. All statements with the same distance to the right belong to the same block of code. If a block has to be more deeply nested, it is simply indented further to the right. "
   ]
  },
  {
   "cell_type": "code",
   "execution_count": 9,
   "id": "ddf1a4c9",
   "metadata": {},
   "outputs": [
    {
     "name": "stdout",
     "output_type": "stream",
     "text": [
      "1\n",
      "2\n",
      "3\n",
      "4\n",
      "5\n"
     ]
    }
   ],
   "source": [
    "for i in range(1,100):\n",
    "    print(i)\n",
    "    if i == 5:\n",
    "        break"
   ]
  },
  {
   "cell_type": "markdown",
   "id": "b02391b7",
   "metadata": {},
   "source": [
    "<p>The enforcement of indentation in python mekes the code look neat and clean. This results in Python programs that look similar and consistent.</p>\n",
    "<p>Indentation can be ignored in the continuation,but it's always a good idea to indent, It makes the code more readable. For example:</p>"
   ]
  },
  {
   "cell_type": "code",
   "execution_count": 10,
   "id": "814761a2",
   "metadata": {},
   "outputs": [
    {
     "name": "stdout",
     "output_type": "stream",
     "text": [
      "Hello\n"
     ]
    }
   ],
   "source": [
    "if True:\n",
    "    print('Hello')\n",
    "    a = 5"
   ]
  },
  {
   "cell_type": "code",
   "execution_count": 12,
   "id": "de8e398b",
   "metadata": {},
   "outputs": [
    {
     "name": "stdout",
     "output_type": "stream",
     "text": [
      "Hello\n"
     ]
    }
   ],
   "source": [
    "if True: print('Hello'); a=5\n",
    "#both are valid and do the same thing; but the former style is clearer."
   ]
  },
  {
   "cell_type": "markdown",
   "id": "8bfe5233",
   "metadata": {},
   "source": [
    "# Comments"
   ]
  },
  {
   "cell_type": "markdown",
   "id": "c383b873",
   "metadata": {},
   "source": [
    "<p>Comments are very important while writing a program. They describe what is going on inside a program, so that a person looking at the source code does not have a hard time\n",
    "Comments help the programmer to define his instution about the block of program.\n",
    "In python, we define a comment by # or \"\"\" \"\"\"\n",
    "Comments help the programmer to better understand the program which python interpreter ignore while interpreting the code.\n",
    "Comments improve the program readability to a layman.\n",
    "</p>\n",
    "\n",
    "    \n",
    "<ul>\n",
    "    <p>There are two ways to define comments in python.</p>\n",
    "    </br>\n",
    "    <li><b>Single line comment:</b>To write a single line comment we use a hashing symbol.</li>\n",
    "    <li>Whatever statement comment written in a comment it changes it's color to indicate the programmer is a comment.</li>\n",
    "    <li><b>Multi-line commnet:</b> To write a multi-line comment in python we enclose our piece of code in a delimeter(\"\"\")</li>\n",
    "</ul>"
   ]
  },
  {
   "cell_type": "code",
   "execution_count": 15,
   "id": "b27b4a37",
   "metadata": {},
   "outputs": [
    {
     "data": {
      "text/plain": [
       "\"We are using print function\\nit's a example of multi-line comment\""
      ]
     },
     "execution_count": 15,
     "metadata": {},
     "output_type": "execute_result"
    }
   ],
   "source": [
    "\"\"\"We are using print function\n",
    "it's a example of multi-line comment\"\"\""
   ]
  },
  {
   "cell_type": "code",
   "execution_count": null,
   "id": "8ee39396",
   "metadata": {},
   "outputs": [],
   "source": []
  }
 ],
 "metadata": {
  "kernelspec": {
   "display_name": "Python 3",
   "language": "python",
   "name": "python3"
  },
  "language_info": {
   "codemirror_mode": {
    "name": "ipython",
    "version": 3
   },
   "file_extension": ".py",
   "mimetype": "text/x-python",
   "name": "python",
   "nbconvert_exporter": "python",
   "pygments_lexer": "ipython3",
   "version": "3.8.8"
  }
 },
 "nbformat": 4,
 "nbformat_minor": 5
}
