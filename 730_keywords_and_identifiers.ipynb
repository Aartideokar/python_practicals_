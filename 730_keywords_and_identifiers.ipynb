{
 "cells": [
  {
   "cell_type": "markdown",
   "id": "996aacc5",
   "metadata": {},
   "source": [
    "# keywords\n",
    "1. Keywords are some predifined and reserved words in python that have a special meaning \n",
    "2. Keywords are used to defined the syntax of coding/program.\n",
    "3. The keyword cannot be used as identifier, functions , variable name.\n",
    "4. All the keywords in python are written in lower case except True and False.\n",
    "5. Python, keywords are case sensitive.\n",
    "6. There are 33 keywords in Python 3.7"
   ]
  },
  {
   "cell_type": "markdown",
   "id": "4a687647",
   "metadata": {},
   "source": [
    "# Identifieres\n",
    "\n",
    "<ol>\n",
    "    <li>Identifier is a name used to identify a variable, function, class, module, etc.</li>\n",
    "    <li>The identifier is a combination of character digits and underscore.</li>\n",
    "    <li>The identifier should start with a character or Underscore then use a digit.</li>\n",
    "    <li>The characters are A-Z or a-z, an Underscore(_),and digit(0-9).we should not use special characters(#,@,$,%,!) in identifiers.</li>\n",
    "</ol>    "
   ]
  },
  {
   "cell_type": "markdown",
   "id": "2e68d4d3",
   "metadata": {},
   "source": [
    "<h1 style=\"color:green\" size='50px'> Examples of valid identifiers:</h1>\n",
    "\n",
    "<ul>\n",
    "    <li>var1</li>\n",
    "    <li>_var1</li>\n",
    "    <li>_1_var</li>\n",
    "    <li>var_1</li>\n",
    "</ul>\n",
    "\n",
    "<h1 style=\"color:red\">Examples of Invalid identifiers:</h1>\n",
    "\n",
    "<ul>\n",
    "    <li>!var1</li>\n",
    "    <li>1var</li>\n",
    "    <li>1_var</li>\n",
    "    <li>var#1</li>\n",
    "</ul>  "
   ]
  },
  {
   "cell_type": "code",
   "execution_count": 1,
   "id": "029e96d9",
   "metadata": {},
   "outputs": [
    {
     "name": "stdout",
     "output_type": "stream",
     "text": [
      "5\n"
     ]
    }
   ],
   "source": [
    "PascalCase = 5\n",
    "print(PascalCase)"
   ]
  },
  {
   "cell_type": "code",
   "execution_count": 2,
   "id": "91c6323e",
   "metadata": {},
   "outputs": [
    {
     "name": "stdout",
     "output_type": "stream",
     "text": [
      "aartiDeokar\n"
     ]
    }
   ],
   "source": [
    "camelCase = \"aartiDeokar\"\n",
    "print(camelCase)"
   ]
  },
  {
   "cell_type": "code",
   "execution_count": 3,
   "id": "7ea07d75",
   "metadata": {},
   "outputs": [
    {
     "name": "stdout",
     "output_type": "stream",
     "text": [
      "aarti_deokar\n"
     ]
    }
   ],
   "source": [
    "snake_case = 'aarti_deokar'\n",
    "print(snake_case)"
   ]
  },
  {
   "cell_type": "code",
   "execution_count": 4,
   "id": "8f5cc3e2",
   "metadata": {},
   "outputs": [
    {
     "name": "stdout",
     "output_type": "stream",
     "text": [
      "Example No: 1\n",
      "True\n",
      "True\n",
      "False\n",
      "True\n"
     ]
    }
   ],
   "source": [
    "print(\"Example No: 1\")\n",
    "print(True or False)\n",
    "print(True or True)\n",
    "print(False or False)\n",
    "print(not False)"
   ]
  },
  {
   "cell_type": "code",
   "execution_count": 5,
   "id": "d0f51671",
   "metadata": {},
   "outputs": [
    {
     "name": "stdout",
     "output_type": "stream",
     "text": [
      "Example No: 02\n",
      "DSAI\n",
      "DSAI\n",
      "DSAI\n",
      "DSAI\n",
      "DSAI\n",
      "DSAI\n",
      "DSAI\n",
      "DSAI\n",
      "DSAI\n",
      "DSAI\n"
     ]
    }
   ],
   "source": [
    "print(\"Example No: 02\")\n",
    "for i in range(10):\n",
    "    print(\"DSAI\")"
   ]
  },
  {
   "cell_type": "code",
   "execution_count": 6,
   "id": "0a2b9377",
   "metadata": {},
   "outputs": [
    {
     "name": "stdout",
     "output_type": "stream",
     "text": [
      "You are not eligible for vote\n"
     ]
    }
   ],
   "source": [
    "a = 15\n",
    "b = 22\n",
    "\n",
    "if a>18:\n",
    "    print(\"You are eligible for vote\")\n",
    "else: \n",
    "    print(\"You are not eligible for vote\")"
   ]
  },
  {
   "cell_type": "code",
   "execution_count": 10,
   "id": "8f0bd7df",
   "metadata": {},
   "outputs": [
    {
     "name": "stdout",
     "output_type": "stream",
     "text": [
      "enter age=18\n",
      "You are not eligible for vote\n"
     ]
    }
   ],
   "source": [
    "a= int(input('enter age='))\n",
    "if a>18:\n",
    "    print(\"You are eligible for vote\")\n",
    "else: \n",
    "    print(\"You are not eligible for vote\")"
   ]
  },
  {
   "cell_type": "code",
   "execution_count": 9,
   "id": "609acb88",
   "metadata": {},
   "outputs": [
    {
     "name": "stdout",
     "output_type": "stream",
     "text": [
      "enter age=40\n",
      "adult\n"
     ]
    }
   ],
   "source": [
    "z = int(input('enter age='))\n",
    "if z>50:\n",
    "    print('senior')\n",
    "elif 25<=z:\n",
    "    print('adult')\n",
    "else:\n",
    "    print('kids')"
   ]
  },
  {
   "cell_type": "code",
   "execution_count": 12,
   "id": "0e90f8e7",
   "metadata": {},
   "outputs": [
    {
     "ename": "SyntaxError",
     "evalue": "invalid syntax (<ipython-input-12-de51581bf173>, line 1)",
     "output_type": "error",
     "traceback": [
      "\u001b[1;36m  File \u001b[1;32m\"<ipython-input-12-de51581bf173>\"\u001b[1;36m, line \u001b[1;32m1\u001b[0m\n\u001b[1;33m    a@ = 5\u001b[0m\n\u001b[1;37m       ^\u001b[0m\n\u001b[1;31mSyntaxError\u001b[0m\u001b[1;31m:\u001b[0m invalid syntax\n"
     ]
    }
   ],
   "source": [
    "a@ = 5"
   ]
  },
  {
   "cell_type": "code",
   "execution_count": 14,
   "id": "9a97cdba",
   "metadata": {},
   "outputs": [
    {
     "ename": "SyntaxError",
     "evalue": "invalid syntax (<ipython-input-14-2186705ba930>, line 1)",
     "output_type": "error",
     "traceback": [
      "\u001b[1;36m  File \u001b[1;32m\"<ipython-input-14-2186705ba930>\"\u001b[1;36m, line \u001b[1;32m1\u001b[0m\n\u001b[1;33m    global = 5\u001b[0m\n\u001b[1;37m           ^\u001b[0m\n\u001b[1;31mSyntaxError\u001b[0m\u001b[1;31m:\u001b[0m invalid syntax\n"
     ]
    }
   ],
   "source": [
    "global = 5"
   ]
  },
  {
   "cell_type": "code",
   "execution_count": null,
   "id": "3fb91340",
   "metadata": {},
   "outputs": [],
   "source": []
  }
 ],
 "metadata": {
  "kernelspec": {
   "display_name": "Python 3",
   "language": "python",
   "name": "python3"
  },
  "language_info": {
   "codemirror_mode": {
    "name": "ipython",
    "version": 3
   },
   "file_extension": ".py",
   "mimetype": "text/x-python",
   "name": "python",
   "nbconvert_exporter": "python",
   "pygments_lexer": "ipython3",
   "version": "3.8.8"
  }
 },
 "nbformat": 4,
 "nbformat_minor": 5
}
